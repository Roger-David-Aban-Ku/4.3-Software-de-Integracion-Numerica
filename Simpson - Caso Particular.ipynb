{
 "cells": [
  {
   "attachments": {},
   "cell_type": "markdown",
   "metadata": {},
   "source": [
    "## Metodo de Simpson - Caso Particular\n",
    "  * Caso base $\\int_{a}^{b} f(x) dx= \\frac{h}{3}[f(x_0) + 4f(x_1)+ f(x_2)]-error $\n",
    "\n",
    "$$\\int_{-2}^{2} x^{3}e^{x} dx$$"
   ]
  },
  {
   "cell_type": "code",
   "execution_count": 2,
   "metadata": {},
   "outputs": [],
   "source": [
    "import math\n",
    "## definir una función que realice las evaluaciones\n",
    "def fxi(x):\n",
    "    return (x**3)*(math.e**x)"
   ]
  },
  {
   "cell_type": "code",
   "execution_count": 27,
   "metadata": {},
   "outputs": [],
   "source": [
    "def Simpson(afxi,h):\n",
    "    #[operaciones for  if condicion]\n",
    "    #sum([])=>suma o un solo valor, escalar, \n",
    "    resultado = (h/3) * (afxi[0] + 4*afxi[1] + afxi[2])\n",
    "    return resultado"
   ]
  },
  {
   "cell_type": "code",
   "execution_count": 51,
   "metadata": {},
   "outputs": [],
   "source": [
    "def principal():\n",
    "    print(\"Cantidad de intervalos = 3\")\n",
    "    a = float(input(\"Limite a: \"))\n",
    "    b = float(input(\"Limite b: \"))\n",
    "    h= (b-a)/2\n",
    "    ## Comprension and generator\n",
    "    afxi = [fxi(a+i*h) for i in range(5)] #comprenssion\n",
    "    resultadosimpson = Simpson(afxi,h)\n",
    "    print(\"\\033[1;32m\"\"\\tMETODO DE SIMPSON\")\n",
    "    print(\"-----------------------------------------------------------------\")\n",
    "    print(\"\\033[1;30m\"\"\\t |i|\", \"\\t |xi|\", \"\\t |fxi|\")\n",
    "    for i in range (3):\n",
    "        print(\"\\t \",i, \"\\t\",(a+i*h), \"\\t\",afxi[i])\n",
    "    print(\"-----------------------------------------------------------------\")\n",
    "    print(\"-----------------------------------------------------------------\")\n",
    "    print(\"Resultado del primer y ultimo intervalo\")\n",
    "    print(\"\\n\\t |i|\",\"\\t |fxi|\")\n",
    "    primero=afxi[0]\n",
    "    medio=afxi[1]\n",
    "    ultimo=afxi[2] \n",
    "    print(\"\\033[1;30m\"\"\\t \",0, \"\\033[1;31m\"\"\\t\", primero)\n",
    "    print(\"\\033[1;30m\"\"\\t \",2, \"\\033[1;32m\"\"\\t\", ultimo)\n",
    "    print(\"\\033[1;30m\"\"\\n**Multiplicacion de \",medio,\"por 4: \")\n",
    "    mult=4*medio\n",
    "    print(\"\\033[1;35m\"\"Resultado de la multiplicacion:\", mult)\n",
    "    print(\"-----------------------------------------------------------------\")\n",
    "    print(\"-----------------------------------------------------------------\")\n",
    "    sumatotal=primero+ultimo+mult\n",
    "    print(\"\\033[1;30m\"\"\\nSumatoria de\"\"\\033[1;31m\",primero,\"+\"\"\\033[1;35m\",mult,\"+\"\"\\033[1;32m\",ultimo)\n",
    "    print(\"\\033[1;30m\"\"Sumatoria Total: \", sumatotal)\n",
    "    print(\"\\033[1;34m\"\"Resultado con el Metodo Simpson: \", resultadosimpson)"
   ]
  },
  {
   "cell_type": "code",
   "execution_count": 52,
   "metadata": {},
   "outputs": [
    {
     "name": "stdout",
     "output_type": "stream",
     "text": [
      "Cantidad de intervalos = 3\n",
      "Limite a: -2\n",
      "Limite b: 2\n",
      "\u001b[1;32m\tMETODO DE SIMPSON\n",
      "-----------------------------------------------------------------\n",
      "\u001b[1;30m\t |i| \t |xi| \t |fxi|\n",
      "\t  0 \t -2.0 \t -1.0826822658929016\n",
      "\t  1 \t 0.0 \t 0.0\n",
      "\t  2 \t 2.0 \t 59.112448791445196\n",
      "-----------------------------------------------------------------\n",
      "-----------------------------------------------------------------\n",
      "Resultado del primer y ultimo intervalo\n",
      "\n",
      "\t |i| \t |fxi|\n",
      "\u001b[1;30m\t  0 \u001b[1;31m\t -1.0826822658929016\n",
      "\u001b[1;30m\t  2 \u001b[1;32m\t 59.112448791445196\n",
      "\u001b[1;30m\n",
      "**Multiplicacion de  0.0 por 4: \n",
      "\u001b[1;35mResultado de la multiplicacion: 0.0\n",
      "-----------------------------------------------------------------\n",
      "-----------------------------------------------------------------\n",
      "\u001b[1;30m\n",
      "Sumatoria de\u001b[1;31m -1.0826822658929016 +\u001b[1;35m 0.0 +\u001b[1;32m 59.112448791445196\n",
      "\u001b[1;30mSumatoria Total:  58.0297665255523\n",
      "\u001b[1;34mResultado con el Metodo Simpson:  38.68651101703486\n"
     ]
    }
   ],
   "source": [
    "principal()"
   ]
  }
 ],
 "metadata": {
  "kernelspec": {
   "display_name": "Python 3",
   "language": "python",
   "name": "python3"
  },
  "language_info": {
   "codemirror_mode": {
    "name": "ipython",
    "version": 3
   },
   "file_extension": ".py",
   "mimetype": "text/x-python",
   "name": "python",
   "nbconvert_exporter": "python",
   "pygments_lexer": "ipython3",
   "version": "3.8.5"
  }
 },
 "nbformat": 4,
 "nbformat_minor": 4
}
