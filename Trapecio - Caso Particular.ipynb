{
 "cells": [
  {
   "cell_type": "markdown",
   "metadata": {},
   "source": [
    "## Metodo de Trapecio - Caso Particular\n",
    "* Caso base $\\int_{a}^{b} f(x) dx= \\frac{h}{2}[f(x_0) + f(x_1)]-error $\n",
    "$$\\int_{-2}^{2} x^{3}e^{x} dx$$"
   ]
  },
  {
   "cell_type": "code",
   "execution_count": 1,
   "metadata": {},
   "outputs": [],
   "source": [
    "import math\n",
    "## definir una función que realice las evaluaciones\n",
    "def fxi(x):\n",
    "    return (x**3)*(math.e**x)"
   ]
  },
  {
   "cell_type": "code",
   "execution_count": 2,
   "metadata": {},
   "outputs": [],
   "source": [
    "def Trapecio(afxi,h):\n",
    "    s = len(afxi)\n",
    "#     suma = sum([afxi[i] for i in  range(1,s-1)])\n",
    "    resultado = (h/2) * (afxi[0]+afxi[1])\n",
    "    return resultado"
   ]
  },
  {
   "cell_type": "code",
   "execution_count": 17,
   "metadata": {},
   "outputs": [],
   "source": [
    "def principal():\n",
    "    print(\"Cantidad de intervalos: 2\")\n",
    "    a = float(input(\"Limite a: \"))\n",
    "    b = float(input(\"Limite b: \"))\n",
    "    h= b-a\n",
    "    ## Comprension and generator\n",
    "    afxi = [fxi(a+i*h) for i in range(2)] #comprenssion\n",
    "    resultadotrapecio = Trapecio(afxi,h)\n",
    "    print(\"\\033[1;32m\"\"METODO DE TRAPECIO\")\n",
    "    print(\"-----------------------------------------------------------------\")\n",
    "    print(\"\\033[1;30m\"\"\\t |i|\", \"\\t |xi|\", \"\\t |fxi|\")\n",
    "    for i in range (2):\n",
    "        print(\"\\t \",i, \"\\t\",(a+i*h), \"\\t\",afxi[i])\n",
    "    print(\"-----------------------------------------------------------------\")\n",
    "    print(\"-----------------------------------------------------------------\")\n",
    "    print(\"Resultado del primer y ultimo intervalo\")\n",
    "    print(\"\\n\\t |i|\",\"\\t |fxi|\")\n",
    "    primero=afxi[0]\n",
    "    ultimo=afxi[1] \n",
    "    print(\"\\033[1;30m\"\"\\t \",0, \"\\033[1;32m\"\"\\t\", primero)\n",
    "    print(\"\\033[1;30m\"\"\\t \",1, \"\\033[1;35m\"\"\\t\", ultimo)\n",
    "    sumado=primero+ultimo\n",
    "    print(\"-----------------------------------------------------------------\")\n",
    "    print(\"-----------------------------------------------------------------\")\n",
    "    print(\"\\033[1;30m\"\"Sumatoria de: \"\"\\033[1;32m\",primero,\"+\"\"\\033[1;35m\",ultimo)\n",
    "    print(\"\\033[1;30m\"\"Sumatoria Total: \", sumado)\n",
    "    print(\"\\033[1;34m\"\"Resultado con el Metodo Trapecio: \", resultadotrapecio)"
   ]
  },
  {
   "cell_type": "code",
   "execution_count": 18,
   "metadata": {},
   "outputs": [
    {
     "name": "stdout",
     "output_type": "stream",
     "text": [
      "Cantidad de intervalos: 2\n",
      "Limite a: -2\n",
      "Limite b: 2\n",
      "\u001b[1;32mMETODO DE TRAPECIO\n",
      "-----------------------------------------------------------------\n",
      "\u001b[1;30m\t |i| \t |xi| \t |fxi|\n",
      "\t  0 \t -2.0 \t -1.0826822658929016\n",
      "\t  1 \t 2.0 \t 59.112448791445196\n",
      "-----------------------------------------------------------------\n",
      "-----------------------------------------------------------------\n",
      "Resultado del primer y ultimo intervalo\n",
      "\n",
      "\t |i| \t |fxi|\n",
      "\u001b[1;30m\t  0 \u001b[1;32m\t -1.0826822658929016\n",
      "\u001b[1;30m\t  1 \u001b[1;35m\t 59.112448791445196\n",
      "-----------------------------------------------------------------\n",
      "-----------------------------------------------------------------\n",
      "\u001b[1;30mSumatoria de: \u001b[1;32m -1.0826822658929016 +\u001b[1;35m 59.112448791445196\n",
      "\u001b[1;30mSumatoria Total:  58.0297665255523\n",
      "\u001b[1;34mResultado con el Metodo Trapecio:  116.0595330511046\n"
     ]
    }
   ],
   "source": [
    "principal()"
   ]
  }
 ],
 "metadata": {
  "kernelspec": {
   "display_name": "Python 3",
   "language": "python",
   "name": "python3"
  },
  "language_info": {
   "codemirror_mode": {
    "name": "ipython",
    "version": 3
   },
   "file_extension": ".py",
   "mimetype": "text/x-python",
   "name": "python",
   "nbconvert_exporter": "python",
   "pygments_lexer": "ipython3",
   "version": "3.8.5"
  }
 },
 "nbformat": 4,
 "nbformat_minor": 4
}
