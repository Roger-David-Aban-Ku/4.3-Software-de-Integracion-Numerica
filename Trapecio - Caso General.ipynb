{
 "cells": [
  {
   "cell_type": "markdown",
   "metadata": {},
   "source": [
    "## METODO DE TRAPECIO - CASO GENERAL\n",
    "\n",
    "* Caso general $h=(b-a)/n$, n puede ser de diversa forma, $\\int_{a}^{b} f(x) dx= \\frac{h}{2}[f(a) + 2 \\sum_{j=1}^{(n-1)} f(x_{j}) + f(b)]$\n",
    "$$\\int_{0}^{3} e^{2x} \\sin (3x) dx$$\n",
    "$$n=8$$"
   ]
  },
  {
   "cell_type": "code",
   "execution_count": 21,
   "metadata": {},
   "outputs": [],
   "source": [
    "import math\n",
    "## definir una función que realice las evaluaciones\n",
    "def fxi(x):\n",
    "    return (math.e**(2*x)) * math.sin(3*x)"
   ]
  },
  {
   "cell_type": "code",
   "execution_count": 18,
   "metadata": {},
   "outputs": [],
   "source": [
    "def sumatoria(afxi):\n",
    "    s = len(afxi)\n",
    "    suma = sum([afxi[i] for i in  range(1,s-1)])\n",
    "    return suma\n",
    "\n",
    "def Trapecio(afxi,h):\n",
    "    s = len(afxi)\n",
    "#     suma = sum([afxi[i] for i in  range(1,s-1)])\n",
    "    resultado = (h/2) * (afxi[0]+afxi[s-1] + 2 * (sumatoria(afxi)))\n",
    "    return resultado"
   ]
  },
  {
   "cell_type": "code",
   "execution_count": 25,
   "metadata": {},
   "outputs": [],
   "source": [
    "def principal():\n",
    "    n = int(input(\"Cantidad de intervalos: \"))\n",
    "    a = float(input(\"Limite a: \"))\n",
    "    b = float(input(\"Limite b: \"))\n",
    "    h= (b-a)/n\n",
    "    ## Comprension and generator\n",
    "    afxi = [fxi(a+i*h) for i in range(n+1)] #comprenssion\n",
    "    resultadotrapecio = Trapecio(afxi,h)\n",
    "    print(\"\\033[1;32m\"\"METODO DE TRAPECIO\")\n",
    "    print(\"-----------------------------------------------------------------\")\n",
    "    print(\"\\033[1;30m\"\"\\t |i|\", \"\\t |xi|\", \"\\t |fxi|\")\n",
    "    for i in range (n+1):\n",
    "        print(\"\\t \",i, \"\\t\",(a+i*h), \"\\t\",afxi[i])\n",
    "    print(\"-----------------------------------------------------------------\")\n",
    "    print(\"-----------------------------------------------------------------\")\n",
    "    print(\"Resultado del primer y ultimo intervalo\")\n",
    "    print(\"\\n\\t |i|\",\"\\t |fxi|\")\n",
    "    primero=afxi[0]\n",
    "    ultimo=afxi[n] \n",
    "    print(\"\\t \",0, \"\\t\", primero)\n",
    "    print(\"\\t \",n, \"\\t\", ultimo)\n",
    "    sumado=primero+ultimo\n",
    "    print(\"\\033[1;31m\"\"\\n**La suma de estos 2 intervalos: \", sumado)\n",
    "    print(\"-----------------------------------------------------------------\")\n",
    "    print(\"-----------------------------------------------------------------\")\n",
    "    print(\"\\033[1;30m\"\"Resultados del \", 1, \" hasta \", n-1)\n",
    "    print(\"\\n\\t |i|\",\"\\t |fxi|\")\n",
    "    comodinsum=0\n",
    "    for j in range(n-1):\n",
    "        k=j+1\n",
    "        print(\"\\t\",k, \"\\t\", afxi[k])\n",
    "        comodinsum+=afxi[k]\n",
    "    suma=sumatoria(afxi)*2\n",
    "    print(\"\\n** Sumatoria de los resultados: \", comodinsum)\n",
    "    print(\"\\033[1;35m\"\"** Resultado de la suma\", comodinsum,\" * 2: \", suma)\n",
    "    print(\"-----------------------------------------------------------------\")\n",
    "    print(\"-----------------------------------------------------------------\")\n",
    "    sumatotal=sumado+suma\n",
    "    print(\"\\033[1;30m\"\"Sumatoria de: \"\"\\033[1;31m\",sumado,\"+\"\"\\033[1;35m\",suma)\n",
    "    print(\"\\033[1;30m\"\"Sumatoria Total: \", sumatotal)\n",
    "    print(\"\\033[1;34m\"\"Resultado con el Metodo Trapecio: \", resultadotrapecio)"
   ]
  },
  {
   "cell_type": "code",
   "execution_count": 26,
   "metadata": {},
   "outputs": [
    {
     "name": "stdout",
     "output_type": "stream",
     "text": [
      "Cantidad de intervalos: 8\n",
      "Limite a: 0\n",
      "Limite b: 3\n",
      "\u001b[1;32mMETODO DE TRAPECIO\n",
      "-----------------------------------------------------------------\n",
      "\u001b[1;30m\t |i| \t |xi| \t |fxi|\n",
      "\t  0 \t 0.0 \t 0.0\n",
      "\t  1 \t 0.375 \t 1.9101005116968626\n",
      "\t  2 \t 0.75 \t 3.4870821424155936\n",
      "\t  3 \t 1.125 \t -2.1944545926546484\n",
      "\t  4 \t 1.5 \t -19.63421727189029\n",
      "\t  5 \t 1.875 \t -26.009391110200234\n",
      "\t  6 \t 2.25 \t 40.51167648053158\n",
      "\t  7 \t 2.625 \t 190.5241766150672\n",
      "\t  8 \t 3.0 \t 166.2604632771354\n",
      "-----------------------------------------------------------------\n",
      "-----------------------------------------------------------------\n",
      "Resultado del primer y ultimo intervalo\n",
      "\n",
      "\t |i| \t |fxi|\n",
      "\t  0 \t 0.0\n",
      "\t  8 \t 166.2604632771354\n",
      "\u001b[1;31m\n",
      "**La suma de estos 2 intervalos:  166.2604632771354\n",
      "-----------------------------------------------------------------\n",
      "-----------------------------------------------------------------\n",
      "\u001b[1;30mResultados del  1  hasta  7\n",
      "\n",
      "\t |i| \t |fxi|\n",
      "\t 1 \t 1.9101005116968626\n",
      "\t 2 \t 3.4870821424155936\n",
      "\t 3 \t -2.1944545926546484\n",
      "\t 4 \t -19.63421727189029\n",
      "\t 5 \t -26.009391110200234\n",
      "\t 6 \t 40.51167648053158\n",
      "\t 7 \t 190.5241766150672\n",
      "\n",
      "** Sumatoria de los resultados:  188.59497277496607\n",
      "\u001b[1;35m** Resultado de la suma 188.59497277496607  * 2:  377.18994554993213\n",
      "-----------------------------------------------------------------\n",
      "-----------------------------------------------------------------\n",
      "\u001b[1;30mSumatoria de: \u001b[1;31m 166.2604632771354 +\u001b[1;35m 377.18994554993213\n",
      "\u001b[1;30mSumatoria Total:  543.4504088270676\n",
      "\u001b[1;34mResultado con el Metodo Trapecio:  101.89695165507517\n"
     ]
    }
   ],
   "source": [
    "principal()"
   ]
  }
 ],
 "metadata": {
  "kernelspec": {
   "display_name": "Python 3",
   "language": "python",
   "name": "python3"
  },
  "language_info": {
   "codemirror_mode": {
    "name": "ipython",
    "version": 3
   },
   "file_extension": ".py",
   "mimetype": "text/x-python",
   "name": "python",
   "nbconvert_exporter": "python",
   "pygments_lexer": "ipython3",
   "version": "3.8.5"
  }
 },
 "nbformat": 4,
 "nbformat_minor": 4
}
